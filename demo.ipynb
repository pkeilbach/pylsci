{
 "cells": [
  {
   "cell_type": "markdown",
   "metadata": {
    "collapsed": true,
    "pycharm": {
     "name": "#%% md\n"
    }
   },
   "source": [
    "# PyLSCI Demo\n",
    "\n",
    "This notebook demonstrates the usage of the `pylsci` package.\n",
    "\n",
    "The `pylsci` package expects the raw laser speckle data as 2D or 3D NumPy arrays, \n",
    "and it will be assumed that you provide the functionality to convert your laser speckle data to NumPy arrays.\n",
    "\n",
    "For the demo purposes of this notebook, the `util.py` module was created. \n",
    "It contains the functionality to read images to NumPy arrays, as well as showing them using `matplotlib`.\n",
    "Note that neither the custom `util.py` module nor `matplotlib` is required to use the `pylsci` package, \n",
    "and they won't be installed when you install `pylsci`, and it's only dependency is the NumPy package.\n",
    "\n",
    "With `pylsci`, you can calculate \n",
    "- spatial,\n",
    "- temporal, and\n",
    "- spatio-temporal\n",
    "\n",
    "Laser Speckle Contrast Images. \n",
    "Those three ways of calculating LSCI Images will be demonstrated in this notebook.\n",
    "\n",
    "Using `pylsci`, it is recommended to use temporal LSCI whenever possible, \n",
    "since the temporal implementation can make use of NumPys numerical advantages for multi-dimensional arrays.\n",
    "This is not the case for the spatial and spatio-temporal implementation,\n",
    "where we need a kernel to iterate the image(s), making it computationally expensive.\n",
    "\n",
    "> I tried to find a Python/NumPy equivalent for the MATLAB `imfilter` function.\n",
    "> It seems like you can achieve similar using [SciPy](https://mail.python.org/pipermail/scipy-user/2013-May/034559.html),\n",
    "> but my intention is to avoid using another package dependency, since I prefer lightweight packages.\n",
    "> If you have any idea to optimize the spatial and spatio-temporal implementation, \n",
    "> you can post it in this [GitHub Issue](https://github.com/pkeilbach/pylsci/issues/1).\n",
    "\n",
    "## 0. Preparations\n",
    "\n",
    "To successfully execute this notebook, you will need to install `pylsci`, \n",
    "as well as `matplotlib` (just to show the images). \n",
    "Installing `pylsci` will also install the required NumPy package.\n",
    "\n",
    "```python\n",
    "# to use the pylsci package\n",
    "pip install pylsci\n",
    "\n",
    "# and in addition to use this notebook\n",
    "pip install matplotlib\n",
    "```\n",
    "\n",
    "Now, let's start by importing the helper functions from the custom `util.py` module.\n",
    "\n",
    "> Again, the `util.py` contains custom preprocessing, that is highly dependent on your specific LSCI setup.\n",
    "> Just make sure that in the end, you have your data available as 2D or 3D NumPy arrays.\n"
   ]
  },
  {
   "cell_type": "code",
   "execution_count": null,
   "metadata": {
    "pycharm": {
     "is_executing": false,
     "name": "#%%\n"
    }
   },
   "outputs": [],
   "source": [
    "from util import show_image, read_image"
   ]
  },
  {
   "cell_type": "markdown",
   "metadata": {
    "pycharm": {
     "name": "#%% md\n"
    }
   },
   "source": [
    "## 1. Spatial Contrast Calculation\n",
    "\n",
    "Lets start by loading a raw laser speckle image. This example shows a speckle image of a rat cortex.\n",
    "\n",
    "> Kudos to Biomedical Scientist Dmity Postnov for providing the raw laser speckle image.\n",
    "\n",
    "After reading it, we have the raw laser speckle image available as a 2D numpy array of size $1024 \\times 1280$ pixels.\n"
   ]
  },
  {
   "cell_type": "code",
   "execution_count": null,
   "metadata": {
    "pycharm": {
     "is_executing": false,
     "name": "#%%\n"
    }
   },
   "outputs": [],
   "source": [
    "raw_speckle_img = read_image('img/spatial.tif')\n",
    "print(type(raw_speckle_img))\n",
    "show_image(raw_speckle_img)"
   ]
  },
  {
   "cell_type": "markdown",
   "metadata": {
    "pycharm": {
     "name": "#%% md\n"
    }
   },
   "source": [
    "Now, we can calculate a laser speckle contrast image using `pylsci`.\n",
    "\n",
    "The basic workflow is:\n",
    "\n",
    "- create an `Lsci` object, and\n",
    "- execute a contrast function on the loaded speckle image.\n",
    "\n",
    "The default value for the spatial neighborhood is `nbh_s=3`, and for the temporal neighborhood it is `nbh_t=25`.\n",
    "If you don't pass anything to the constructor, `pylsci` will use those values for the spatial and temporal neighborhoods.\n",
    "\n",
    "However, you can pass custom values for `nbh_s` and `nbh_t`\n",
    "\n",
    "> Note that `nbh_s` is expected to be an odd value, since the kernel should center around a single pixel, \n",
    "> e.g. `nbh_s=3` uses a kernel of $3 \\times 3$ pixels.\n",
    "\n",
    "In this example, we will create an object of the `Lsci` class using the default values, \n",
    "which will give us a spatial kernel of $3 \\times 3$ pixels. "
   ]
  },
  {
   "cell_type": "code",
   "execution_count": null,
   "metadata": {
    "pycharm": {
     "is_executing": false,
     "name": "#%%\n"
    }
   },
   "outputs": [],
   "source": [
    "from pylsci import Lsci\n",
    "\n",
    "# create obbjet\n",
    "lsci = Lsci()\n",
    "# calculate spatial contrast on the previously loaded image\n",
    "s_lsci = lsci.spatial_contrast(raw_speckle_img)\n",
    "# use helper function to show the contrast image\n",
    "show_image(s_lsci)"
   ]
  },
  {
   "cell_type": "markdown",
   "metadata": {
    "pycharm": {
     "name": "#%% md\n"
    }
   },
   "source": [
    "The result is a laser speckle contrast image that shows us the vessels of the rat cortex.\n",
    "\n",
    "Now, we try a larger spatial neighborhood of a $7 \\times 7$ kernel.\n",
    "\n",
    "See how the larger neighborhood positively affects the laser speckle contrast image,\n",
    "since the larger spatial neighborhood provides us more statistical robustness on the contrast calculation."
   ]
  },
  {
   "cell_type": "code",
   "execution_count": null,
   "metadata": {
    "pycharm": {
     "is_executing": false,
     "name": "#%% \n"
    }
   },
   "outputs": [],
   "source": [
    "lsci = Lsci(nbh_s=7)\n",
    "s_lsci = lsci.spatial_contrast(raw_speckle_img)\n",
    "show_image(s_lsci)\n"
   ]
  },
  {
   "cell_type": "markdown",
   "metadata": {
    "pycharm": {
     "name": "#%% md\n"
    }
   },
   "source": [
    "## 2. Temporal Contrast Calculation\n",
    "\n",
    "To demonstrate the temporal contrast calculation, an example of my thesis project is used. \n",
    "\n",
    "The LSCI setup provided a time series of 1000 raw laser speckle image, each of size $64 \\times 64$ pixels.\n",
    "To get all the data in a single image, the 1000 images were stacked vertically, \n",
    "providing a single image of size $64000 \\times 64$ pixels. \n",
    "\n",
    "> Since the project topic was [Fingerprint Presentation Attack Detection using LSCI](https://www.researchgate.net/publication/329391997_Fingerprint_Presentation_Attack_Detection_using_Laser_Speckle_Contrast_Imaging),\n",
    "> the images captured a time series of 1000 images of an area of size $1 \\times 1$ $cm^2$ of the human index finger."
   ]
  },
  {
   "cell_type": "code",
   "execution_count": null,
   "metadata": {
    "pycharm": {
     "is_executing": false,
     "name": "#%%\n"
    }
   },
   "outputs": [],
   "source": [
    "# better avoid showing an image of size 64000 x 64 pixels within this notebook,\n",
    "# but feel free to download it\n",
    "raw_speckle_img_seq = read_image('img/temporal.png')\n",
    "print(f\"image dimensions: {raw_speckle_img_seq.shape}\")"
   ]
  },
  {
   "cell_type": "markdown",
   "metadata": {
    "pycharm": {
     "name": "#%% md\n"
    }
   },
   "source": [
    "The temporal contrast function of `pylsci` expects a 3D NumPy array, \n",
    "where the first dimension represents the time dimension.\n",
    "\n",
    "In the described LSCI setup, `pylsci` would expect a NumPy array of shape $1000 \\times 64 \\times 64$.\n",
    "\n",
    "In order to achieve that, the vertically aligned images need to be stacked, \n",
    "and I implemented a helper function for that purpose in the `util.py` module.\n",
    "\n",
    "> As you see, the preprocessing is highly dependent on the specific LSCI setup."
   ]
  },
  {
   "cell_type": "code",
   "execution_count": null,
   "metadata": {
    "pycharm": {
     "is_executing": false,
     "name": "#%%\n"
    }
   },
   "outputs": [],
   "source": [
    "from util import stack_images\n",
    "\n",
    "raw_speckle_img_seq = stack_images(raw_speckle_img_seq)\n",
    "print(f\"image dimensions: {raw_speckle_img_seq.shape}\")"
   ]
  },
  {
   "cell_type": "markdown",
   "metadata": {
    "pycharm": {
     "name": "#%% md\n"
    }
   },
   "source": [
    "Now the array has the expected dimensions and we can calculate the temporal contrast \n",
    "by calling the `temporal_contrast()` function."
   ]
  },
  {
   "cell_type": "code",
   "execution_count": null,
   "metadata": {
    "pycharm": {
     "is_executing": false,
     "name": "#%%\n"
    }
   },
   "outputs": [],
   "source": [
    "lsci = Lsci()\n",
    "t_lsci = lsci.temporal_contrast(raw_speckle_img_seq)\n",
    "show_image(t_lsci)"
   ]
  },
  {
   "cell_type": "markdown",
   "metadata": {
    "pycharm": {
     "name": "#%% md\n"
    }
   },
   "source": [
    "For the value of the temporal neighborhood, no constratints apply, \n",
    "and you can set `nbh_t` to any value that is appropriate."
   ]
  },
  {
   "cell_type": "code",
   "execution_count": null,
   "metadata": {
    "pycharm": {
     "name": "#%%\n",
     "is_executing": false
    }
   },
   "outputs": [],
   "source": [
    "lsci = Lsci(nbh_t=80)\n",
    "t_lsci = lsci.temporal_contrast(raw_speckle_img_seq)\n",
    "show_image(t_lsci)"
   ]
  },
  {
   "cell_type": "markdown",
   "metadata": {
    "pycharm": {
     "name": "#%% md\n"
    }
   },
   "source": [
    "## 3. Spatio-Temporal Contrast Calculation\n",
    "\n",
    "The spatio-temporal contrast can be calculated with the `spatio_temporal_contrast()` function.\n",
    "\n",
    "It accepts a `cubic` argument (default is `False`), that determines \n",
    "if the spatio-temporal neighborhood has a cubic shape (determined by `nbh_s`),\n",
    "or a cubiod shape (considering `nbh_t`).\n",
    "For example, if `cubic=True`, the spatio-temporal kernel is a cube of edge size `nbh_s`, and if `nbh_s=7`, \n",
    "its size will be $7 \\times 7 \\times 7$ pixels.\n",
    "If `cubic` remains `False`, the spatio-temporal kernel will be a cuboid of size $25 \\times 7 \\times 7$ \n",
    "(in case you set `nbh_t=25` and `nbh_s=7`)"
   ]
  },
  {
   "cell_type": "code",
   "execution_count": null,
   "metadata": {
    "pycharm": {
     "is_executing": false,
     "name": "#%%\n"
    }
   },
   "outputs": [],
   "source": [
    "# create the object sing the default values for nbh_s and nbh_t\n",
    "lsci = Lsci()\n",
    "# since cubic = True, the spatio-temporal kernel will be of size 3x3x3\n",
    "st_lsci = lsci.spatio_temporal_contrast(raw_speckle_img_seq, cubic=True)\n",
    "print(f\"Dimensions of the LSCI image in pixels: {st_lsci.shape}\")\n",
    "show_image(st_lsci)"
   ]
  },
  {
   "cell_type": "markdown",
   "metadata": {
    "pycharm": {
     "name": "#%% md\n"
    }
   },
   "source": [
    "For demo purposes, an example with a cuboid neighborhood of $40 \\times 5 \\times 5$ wil be shown, however, \n",
    "it makes not much sense for the given LSCI images."
   ]
  },
  {
   "cell_type": "code",
   "execution_count": null,
   "metadata": {
    "pycharm": {
     "name": "#%% \n",
     "is_executing": false
    }
   },
   "outputs": [],
   "source": [
    "# leaving cubic as false will considers nbh_t for the kernel size, \n",
    "# resulting in a spatio-temporal neighborhood of 40x5x5 pixels.\n",
    "lsci = Lsci(nbh_s=5, nbh_t=40)\n",
    "st_lsci = lsci.spatio_temporal_contrast(raw_speckle_img_seq)\n",
    "print(f\"Dimensions of the LSCI image in pixels: {st_lsci.shape}\")\n",
    "show_image(st_lsci)\n"
   ]
  },
  {
   "cell_type": "markdown",
   "metadata": {
    "pycharm": {
     "name": "#%% md\n"
    }
   },
   "source": [
    "## 4. Conclusion\n",
    "\n",
    "With `pylsci`, you can calculate laser speckle contrast images in Python.\n",
    "For production code, you probably want to use MATLAB or a pure C implementation.\n",
    "However, if you are prototyping or researching,\n",
    "and want to stick with the Python ecosystem, I hope that `pylsci` suits your needs.\n",
    "Make sure you use the temporal contrast calculation whenever possible, \n",
    "since it doesn't rely on a loop-based implementation like the spatial and spatio-temporal contrast calculation.\n",
    "If you find a pythonic equivalent of the MATLAB `imfilter()` function (preferrably avoiding dependencies), \n",
    "please let me know in the [GitHub Issue](https://github.com/pkeilbach/pylsci/issues/1) so I can improve the `pylsci` package.\n"
   ]
  }
 ],
 "metadata": {
  "kernelspec": {
   "display_name": "PyCharm (pylsci)",
   "language": "python",
   "name": "pycharm-7439ad4a"
  },
  "language_info": {
   "codemirror_mode": {
    "name": "ipython",
    "version": 3
   },
   "file_extension": ".py",
   "mimetype": "text/x-python",
   "name": "python",
   "nbconvert_exporter": "python",
   "pygments_lexer": "ipython3",
   "version": "3.8.2"
  },
  "pycharm": {
   "stem_cell": {
    "cell_type": "raw",
    "source": [],
    "metadata": {
     "collapsed": false
    }
   }
  }
 },
 "nbformat": 4,
 "nbformat_minor": 1
}